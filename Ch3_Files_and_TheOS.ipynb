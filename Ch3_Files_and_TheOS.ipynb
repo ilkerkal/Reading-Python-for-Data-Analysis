{
 "cells": [
  {
   "cell_type": "markdown",
   "metadata": {},
   "source": [
    "# Files and the Operating System"
   ]
  },
  {
   "cell_type": "markdown",
   "metadata": {},
   "source": [
    "To open a file for reading or writing, the built-in `open` function can be used with either relative or aboslute file path."
   ]
  },
  {
   "cell_type": "code",
   "execution_count": 1,
   "metadata": {},
   "outputs": [],
   "source": [
    "path = 'examples/segismundo.txt'"
   ]
  },
  {
   "cell_type": "code",
   "execution_count": 3,
   "metadata": {},
   "outputs": [],
   "source": [
    "f = open(path)"
   ]
  },
  {
   "cell_type": "markdown",
   "metadata": {},
   "source": [
    "By default the file is opened in read-only mode `'r'`\n",
    "<br> we can handle file f like alist and iterate over the lines like following"
   ]
  },
  {
   "cell_type": "code",
   "execution_count": 5,
   "metadata": {},
   "outputs": [],
   "source": [
    "for line in f:\n",
    "    pass"
   ]
  },
  {
   "cell_type": "code",
   "execution_count": 7,
   "metadata": {},
   "outputs": [
    {
     "data": {
      "text/plain": [
       "['Sueña el rey que es rey, y vive',\n",
       " 'con este engaño mandando,',\n",
       " 'disponiendo y gobernando;',\n",
       " 'y este aplauso, que recibe',\n",
       " 'prestado, en el viento escribe,',\n",
       " 'y en cenizas le convierte',\n",
       " 'la muerte, ¡desdicha fuerte!',\n",
       " '¿Que hay quien intente reinar,',\n",
       " 'viendo que ha de despertar',\n",
       " 'en el sueño de la muerte?',\n",
       " 'Sueña el rico en su riqueza,',\n",
       " 'que más cuidados le ofrece;',\n",
       " 'sueña el pobre que padece',\n",
       " 'su miseria y su pobreza;',\n",
       " 'sueña el que a medrar empieza,',\n",
       " 'sueña el que afana y pretende,',\n",
       " 'sueña el que agravia y ofende,',\n",
       " 'y en el mundo, en conclusión,',\n",
       " 'todos sueñan lo que son,',\n",
       " 'aunque ninguno lo entiende.',\n",
       " '',\n",
       " 'Yo sueño que estoy aquí',\n",
       " 'destas prisiones cargado,',\n",
       " 'y soñé que en otro estado',\n",
       " 'más lisonjero me vi.',\n",
       " '¿Qué es la vida? Un frenesí.',\n",
       " '¿Qué es la vida? Una ilusión,',\n",
       " 'una sombra, una ficción,',\n",
       " 'y el mayor bien es pequeño:',\n",
       " 'que toda la vida es sueño,',\n",
       " 'y los sueños, sueños son.']"
      ]
     },
     "execution_count": 7,
     "metadata": {},
     "output_type": "execute_result"
    }
   ],
   "source": [
    "lines = [x.rstrip() for x in open(path)]\n",
    "lines"
   ]
  },
  {
   "cell_type": "markdown",
   "metadata": {},
   "source": [
    "It is important to explicitly close the file when you use `open` to create file objects. \n",
    "<br> Closing the file releases its resource back to the operating system"
   ]
  },
  {
   "cell_type": "code",
   "execution_count": 8,
   "metadata": {},
   "outputs": [],
   "source": [
    "f.close()"
   ]
  },
  {
   "cell_type": "markdown",
   "metadata": {},
   "source": [
    "One of the ways to make it easier to clean up open files is to use the  `with` statement.\n",
    "<br> This will automatically close the file `f` when exiting the `with` block."
   ]
  },
  {
   "cell_type": "code",
   "execution_count": 9,
   "metadata": {},
   "outputs": [],
   "source": [
    "with open(path) as f:\n",
    "    lines = [x.strip() for x in f]"
   ]
  },
  {
   "cell_type": "markdown",
   "metadata": {},
   "source": [
    " If we had typed `f = open(path, 'w')`, a _new file_ at _examples/segismundo_ would have been created, overwriting any one in its place.\n",
    " <br> There is also the `'x'` file mode, which created a writable file but fails if the file path already exits. "
   ]
  },
  {
   "cell_type": "markdown",
   "metadata": {},
   "source": [
    "For readable files, some of the most commonly used methods are:\n",
    "    <br> `read`,`seek` and `tell` "
   ]
  },
  {
   "cell_type": "markdown",
   "metadata": {},
   "source": [
    "`read` returns a certain number of character from the file. Character is determined by the file's encoding(e.g., UTF8) or simply raw bytes if the file is opened in binary mode."
   ]
  },
  {
   "cell_type": "code",
   "execution_count": 11,
   "metadata": {},
   "outputs": [
    {
     "data": {
      "text/plain": [
       "'Sueña el r'"
      ]
     },
     "execution_count": 11,
     "metadata": {},
     "output_type": "execute_result"
    }
   ],
   "source": [
    "f = open(path)\n",
    "f.read(10)"
   ]
  },
  {
   "cell_type": "code",
   "execution_count": 12,
   "metadata": {},
   "outputs": [
    {
     "data": {
      "text/plain": [
       "b'Sue\\xc3\\xb1a el '"
      ]
     },
     "execution_count": 12,
     "metadata": {},
     "output_type": "execute_result"
    }
   ],
   "source": [
    "f2 = open(path, 'rb') #binary mode\n",
    "f2.read(10)"
   ]
  },
  {
   "cell_type": "markdown",
   "metadata": {},
   "source": [
    "`tell` method gives the current position"
   ]
  },
  {
   "cell_type": "code",
   "execution_count": 13,
   "metadata": {},
   "outputs": [
    {
     "data": {
      "text/plain": [
       "11"
      ]
     },
     "execution_count": 13,
     "metadata": {},
     "output_type": "execute_result"
    }
   ],
   "source": [
    "f.tell()"
   ]
  },
  {
   "cell_type": "code",
   "execution_count": 14,
   "metadata": {},
   "outputs": [
    {
     "data": {
      "text/plain": [
       "10"
      ]
     },
     "execution_count": 14,
     "metadata": {},
     "output_type": "execute_result"
    }
   ],
   "source": [
    "f2.tell()"
   ]
  },
  {
   "cell_type": "markdown",
   "metadata": {},
   "source": [
    "Default encoding can be checking using `sys` module"
   ]
  },
  {
   "cell_type": "code",
   "execution_count": 15,
   "metadata": {},
   "outputs": [
    {
     "data": {
      "text/plain": [
       "'utf-8'"
      ]
     },
     "execution_count": 15,
     "metadata": {},
     "output_type": "execute_result"
    }
   ],
   "source": [
    "import sys\n",
    "sys.getdefaultencoding()"
   ]
  },
  {
   "cell_type": "markdown",
   "metadata": {},
   "source": [
    "`seek` method changes the file position to the indicated byte in the file"
   ]
  },
  {
   "cell_type": "code",
   "execution_count": 16,
   "metadata": {},
   "outputs": [
    {
     "data": {
      "text/plain": [
       "3"
      ]
     },
     "execution_count": 16,
     "metadata": {},
     "output_type": "execute_result"
    }
   ],
   "source": [
    "f.seek(3)"
   ]
  },
  {
   "cell_type": "code",
   "execution_count": 17,
   "metadata": {},
   "outputs": [
    {
     "data": {
      "text/plain": [
       "'ñ'"
      ]
     },
     "execution_count": 17,
     "metadata": {},
     "output_type": "execute_result"
    }
   ],
   "source": [
    "f.read(1)"
   ]
  },
  {
   "cell_type": "markdown",
   "metadata": {},
   "source": [
    "Lastly we remember to close the files :)"
   ]
  },
  {
   "cell_type": "code",
   "execution_count": 18,
   "metadata": {},
   "outputs": [],
   "source": [
    "f.close()\n",
    "f2.close()"
   ]
  },
  {
   "cell_type": "markdown",
   "metadata": {},
   "source": [
    "Python file modes\n",
    "<br>`r`  Read-only mode\n",
    "<br>`w`  Write-only mode, creates a new file (erasing the data for any file with the same name)\n",
    "<br>`x`  Write-only mode; creates a new file, but fails if the file path already exists\n",
    "<br>`a`  Append to existing file (create the file if it does not already exist)\n",
    "<br>`r+` Read and write\n",
    "<br>`b`  Add to mode for binary files (i.e., 'rb' or 'wb' )\n",
    "<br>`t`  Text mode for files (automatically decoding bytes to Unicode). This is the default if not specified. Add t to other\n",
    "modes to use this (i.e., 'rt' or 'xt' )"
   ]
  },
  {
   "cell_type": "markdown",
   "metadata": {},
   "source": [
    "To write text to a file, file's `write` and `writelines` methods are used. "
   ]
  },
  {
   "cell_type": "code",
   "execution_count": 19,
   "metadata": {},
   "outputs": [],
   "source": [
    "with open('tmp.txt', 'w') as handle:\n",
    "    handle.writelines(x for x in open(path) if len(x) >1)"
   ]
  },
  {
   "cell_type": "code",
   "execution_count": 20,
   "metadata": {},
   "outputs": [
    {
     "data": {
      "text/plain": [
       "['Sueña el rey que es rey, y vive\\n',\n",
       " 'con este engaño mandando,\\n',\n",
       " 'disponiendo y gobernando;\\n',\n",
       " 'y este aplauso, que recibe\\n',\n",
       " 'prestado, en el viento escribe,\\n',\n",
       " 'y en cenizas le convierte\\n',\n",
       " 'la muerte, ¡desdicha fuerte!\\n',\n",
       " '¿Que hay quien intente reinar,\\n',\n",
       " 'viendo que ha de despertar\\n',\n",
       " 'en el sueño de la muerte?\\n',\n",
       " 'Sueña el rico en su riqueza,\\n',\n",
       " 'que más cuidados le ofrece;\\n',\n",
       " 'sueña el pobre que padece\\n',\n",
       " 'su miseria y su pobreza;\\n',\n",
       " 'sueña el que a medrar empieza,\\n',\n",
       " 'sueña el que afana y pretende,\\n',\n",
       " 'sueña el que agravia y ofende,\\n',\n",
       " 'y en el mundo, en conclusión,\\n',\n",
       " 'todos sueñan lo que son,\\n',\n",
       " 'aunque ninguno lo entiende.\\n',\n",
       " 'Yo sueño que estoy aquí\\n',\n",
       " 'destas prisiones cargado,\\n',\n",
       " 'y soñé que en otro estado\\n',\n",
       " 'más lisonjero me vi.\\n',\n",
       " '¿Qué es la vida? Un frenesí.\\n',\n",
       " '¿Qué es la vida? Una ilusión,\\n',\n",
       " 'una sombra, una ficción,\\n',\n",
       " 'y el mayor bien es pequeño:\\n',\n",
       " 'que toda la vida es sueño,\\n',\n",
       " 'y los sueños, sueños son.\\n']"
      ]
     },
     "execution_count": 20,
     "metadata": {},
     "output_type": "execute_result"
    }
   ],
   "source": [
    "with open('tmp.txt') as f:\n",
    "    lines = f.readlines()\n",
    "lines"
   ]
  },
  {
   "cell_type": "markdown",
   "metadata": {},
   "source": [
    "*** Important Python file methods and attributes\n",
    "<br> `read([size])` returns data from file as a string, with optional size argument indicating the number of\n",
    "bytes to read\n",
    "<br> `readlines([size])` Return list of lines in the file, with optional size argument\n",
    "<br> `writestr(str)` Write passed string to file\n",
    "<br> `writelines(strings)` Write passed sequence of strings to the file\n",
    "<br> `close()` close the handle\n",
    "<br> `flush()` Flush the internal I/O buffer to disk\n",
    "<br> `seek(pos)` Move to indicated file position (integer)\n",
    "<br> `tell()` Return current file position as integer\n",
    "<br> `closed` `True` if the file is closed"
   ]
  }
 ],
 "metadata": {
  "kernelspec": {
   "display_name": "Python 3",
   "language": "python",
   "name": "python3"
  },
  "language_info": {
   "codemirror_mode": {
    "name": "ipython",
    "version": 3
   },
   "file_extension": ".py",
   "mimetype": "text/x-python",
   "name": "python",
   "nbconvert_exporter": "python",
   "pygments_lexer": "ipython3",
   "version": "3.7.1"
  }
 },
 "nbformat": 4,
 "nbformat_minor": 2
}
